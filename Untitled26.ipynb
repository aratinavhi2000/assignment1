{
 "cells": [
  {
   "cell_type": "code",
   "execution_count": null,
   "id": "27080816",
   "metadata": {},
   "outputs": [],
   "source": [
    "1. In the below elements which of them are values or an expression? eg:- values can be integer or string and expressions will be mathematical operators.\n",
    "* \n",
    "'hello'\n",
    "-87.8\n",
    "- \n",
    "/ \n",
    "+\t\n",
    "6 \n",
    "ANS:\n",
    "    * it :is a expression\n",
    "    'hello' :it is a values\n",
    "    -87.8: it is a values\n",
    "    - : it is a expression\n",
    "     /: it is a expression\n",
    "     +: it is a expression\n",
    "     6: it is a values "
   ]
  },
  {
   "cell_type": "code",
   "execution_count": null,
   "id": "675ddc2c",
   "metadata": {},
   "outputs": [],
   "source": [
    "2. What is the difference between string and variable?\n",
    "Ans:\n",
    "  Variables are symbols that you can use to store data in a program.\n",
    "Strings are data,  we can use them to fill up a variable.\n",
    "e.g:\n",
    "    \"hello\" # this is a string\n",
    "    a=\"hello\" # this is a variable"
   ]
  },
  {
   "cell_type": "code",
   "execution_count": null,
   "id": "3007d299",
   "metadata": {},
   "outputs": [],
   "source": [
    "3. Describe three different data types.\n",
    "Ans:\n",
    "    1.Numeric data type\n",
    "    2.Boolean data type\n",
    "    3.Sequencial data type"
   ]
  },
  {
   "cell_type": "code",
   "execution_count": null,
   "id": "f75f4a2d",
   "metadata": {},
   "outputs": [],
   "source": [
    "4. What is an expression made up of? What do all expressions do?\n",
    "Ans:\n",
    "   An expression is a combination of values and operators. All expressions evaluate (that is, reduce) to a single value."
   ]
  },
  {
   "cell_type": "code",
   "execution_count": null,
   "id": "06e4dd12",
   "metadata": {},
   "outputs": [],
   "source": [
    "5. This assignment statements, like spam = 10. What is the difference between an expression and a statement?\n",
    "Ans:\n",
    "    An expression evaluates to a single value. A statement does not."
   ]
  },
  {
   "cell_type": "code",
   "execution_count": null,
   "id": "9a56fba2",
   "metadata": {},
   "outputs": [],
   "source": [
    "6. After running the following code, what does the variable bacon contain?\n",
    "bacon = 22\n",
    "bacon + 1"
   ]
  },
  {
   "cell_type": "code",
   "execution_count": 6,
   "id": "df22a38e",
   "metadata": {},
   "outputs": [
    {
     "data": {
      "text/plain": [
       "23"
      ]
     },
     "execution_count": 6,
     "metadata": {},
     "output_type": "execute_result"
    }
   ],
   "source": [
    "bacon=22\n",
    "bacon+1"
   ]
  },
  {
   "cell_type": "code",
   "execution_count": 7,
   "id": "a2d97bca",
   "metadata": {},
   "outputs": [
    {
     "name": "stdout",
     "output_type": "stream",
     "text": [
      "Object `be` not found.\n"
     ]
    },
    {
     "data": {
      "text/plain": [
       "'spamspamspam'"
      ]
     },
     "execution_count": 7,
     "metadata": {},
     "output_type": "execute_result"
    }
   ],
   "source": [
    "7. What should the values of the following two terms be?\n",
    "'spam' + 'spamspam'\n",
    "'spam' * 3\n"
   ]
  },
  {
   "cell_type": "code",
   "execution_count": null,
   "id": "f6dfd866",
   "metadata": {},
   "outputs": [],
   "source": [
    "8. Why is eggs a valid variable name while 100 is invalid?\n",
    "Ans:\n",
    "    eggs is a valid variable name becouse variable name should start with alphabet and\n",
    "    100 is invalid  becouse variable name can contain number but we can't start with numbers."
   ]
  },
  {
   "cell_type": "code",
   "execution_count": null,
   "id": "609969c1",
   "metadata": {},
   "outputs": [],
   "source": [
    "9. What three functions can be used to get the integer, floating-point number, or string version of a value?\n",
    "Ans:\n",
    "    The int(), float(), and str() functions will evaluate to the integer, floating-point number, and string versions\n",
    "    of the value passed to them."
   ]
  },
  {
   "cell_type": "code",
   "execution_count": null,
   "id": "4cfbdedc",
   "metadata": {},
   "outputs": [],
   "source": [
    "10. Why does this expression cause an error? How can you fix it?\n",
    "'I have eaten ' + 99 + ' burritos.'\n",
    "Ans:\n",
    "    we can not add str and int value.\n",
    "    we can fix this error by converting int into a str."
   ]
  }
 ],
 "metadata": {
  "kernelspec": {
   "display_name": "Python 3 (ipykernel)",
   "language": "python",
   "name": "python3"
  },
  "language_info": {
   "codemirror_mode": {
    "name": "ipython",
    "version": 3
   },
   "file_extension": ".py",
   "mimetype": "text/x-python",
   "name": "python",
   "nbconvert_exporter": "python",
   "pygments_lexer": "ipython3",
   "version": "3.9.12"
  }
 },
 "nbformat": 4,
 "nbformat_minor": 5
}
